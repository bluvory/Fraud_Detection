{
 "cells": [
  {
   "cell_type": "code",
   "execution_count": 69,
   "metadata": {},
   "outputs": [],
   "source": [
    "import pandas as pd\n",
    "import numpy as np\n",
    "import matplotlib.pyplot as plt\n",
    "import matplotlib.patches as mpatches\n",
    "\n",
    "from sklearn.preprocessing import StandardScaler, RobustScaler\n",
    "from sklearn.decomposition import TruncatedSVD"
   ]
  },
  {
   "cell_type": "code",
   "execution_count": 70,
   "metadata": {},
   "outputs": [
    {
     "data": {
      "text/html": [
       "<div>\n",
       "<style scoped>\n",
       "    .dataframe tbody tr th:only-of-type {\n",
       "        vertical-align: middle;\n",
       "    }\n",
       "\n",
       "    .dataframe tbody tr th {\n",
       "        vertical-align: top;\n",
       "    }\n",
       "\n",
       "    .dataframe thead th {\n",
       "        text-align: right;\n",
       "    }\n",
       "</style>\n",
       "<table border=\"1\" class=\"dataframe\">\n",
       "  <thead>\n",
       "    <tr style=\"text-align: right;\">\n",
       "      <th></th>\n",
       "      <th>Time</th>\n",
       "      <th>V1</th>\n",
       "      <th>V2</th>\n",
       "      <th>V3</th>\n",
       "      <th>V4</th>\n",
       "      <th>V5</th>\n",
       "      <th>V6</th>\n",
       "      <th>V7</th>\n",
       "      <th>V8</th>\n",
       "      <th>V9</th>\n",
       "      <th>...</th>\n",
       "      <th>V21</th>\n",
       "      <th>V22</th>\n",
       "      <th>V23</th>\n",
       "      <th>V24</th>\n",
       "      <th>V25</th>\n",
       "      <th>V26</th>\n",
       "      <th>V27</th>\n",
       "      <th>V28</th>\n",
       "      <th>Amount</th>\n",
       "      <th>Class</th>\n",
       "    </tr>\n",
       "  </thead>\n",
       "  <tbody>\n",
       "    <tr>\n",
       "      <th>0</th>\n",
       "      <td>0.0</td>\n",
       "      <td>-1.359807</td>\n",
       "      <td>-0.072781</td>\n",
       "      <td>2.536347</td>\n",
       "      <td>1.378155</td>\n",
       "      <td>-0.338321</td>\n",
       "      <td>0.462388</td>\n",
       "      <td>0.239599</td>\n",
       "      <td>0.098698</td>\n",
       "      <td>0.363787</td>\n",
       "      <td>...</td>\n",
       "      <td>-0.018307</td>\n",
       "      <td>0.277838</td>\n",
       "      <td>-0.110474</td>\n",
       "      <td>0.066928</td>\n",
       "      <td>0.128539</td>\n",
       "      <td>-0.189115</td>\n",
       "      <td>0.133558</td>\n",
       "      <td>-0.021053</td>\n",
       "      <td>149.62</td>\n",
       "      <td>0</td>\n",
       "    </tr>\n",
       "    <tr>\n",
       "      <th>1</th>\n",
       "      <td>0.0</td>\n",
       "      <td>1.191857</td>\n",
       "      <td>0.266151</td>\n",
       "      <td>0.166480</td>\n",
       "      <td>0.448154</td>\n",
       "      <td>0.060018</td>\n",
       "      <td>-0.082361</td>\n",
       "      <td>-0.078803</td>\n",
       "      <td>0.085102</td>\n",
       "      <td>-0.255425</td>\n",
       "      <td>...</td>\n",
       "      <td>-0.225775</td>\n",
       "      <td>-0.638672</td>\n",
       "      <td>0.101288</td>\n",
       "      <td>-0.339846</td>\n",
       "      <td>0.167170</td>\n",
       "      <td>0.125895</td>\n",
       "      <td>-0.008983</td>\n",
       "      <td>0.014724</td>\n",
       "      <td>2.69</td>\n",
       "      <td>0</td>\n",
       "    </tr>\n",
       "    <tr>\n",
       "      <th>2</th>\n",
       "      <td>1.0</td>\n",
       "      <td>-1.358354</td>\n",
       "      <td>-1.340163</td>\n",
       "      <td>1.773209</td>\n",
       "      <td>0.379780</td>\n",
       "      <td>-0.503198</td>\n",
       "      <td>1.800499</td>\n",
       "      <td>0.791461</td>\n",
       "      <td>0.247676</td>\n",
       "      <td>-1.514654</td>\n",
       "      <td>...</td>\n",
       "      <td>0.247998</td>\n",
       "      <td>0.771679</td>\n",
       "      <td>0.909412</td>\n",
       "      <td>-0.689281</td>\n",
       "      <td>-0.327642</td>\n",
       "      <td>-0.139097</td>\n",
       "      <td>-0.055353</td>\n",
       "      <td>-0.059752</td>\n",
       "      <td>378.66</td>\n",
       "      <td>0</td>\n",
       "    </tr>\n",
       "    <tr>\n",
       "      <th>3</th>\n",
       "      <td>1.0</td>\n",
       "      <td>-0.966272</td>\n",
       "      <td>-0.185226</td>\n",
       "      <td>1.792993</td>\n",
       "      <td>-0.863291</td>\n",
       "      <td>-0.010309</td>\n",
       "      <td>1.247203</td>\n",
       "      <td>0.237609</td>\n",
       "      <td>0.377436</td>\n",
       "      <td>-1.387024</td>\n",
       "      <td>...</td>\n",
       "      <td>-0.108300</td>\n",
       "      <td>0.005274</td>\n",
       "      <td>-0.190321</td>\n",
       "      <td>-1.175575</td>\n",
       "      <td>0.647376</td>\n",
       "      <td>-0.221929</td>\n",
       "      <td>0.062723</td>\n",
       "      <td>0.061458</td>\n",
       "      <td>123.50</td>\n",
       "      <td>0</td>\n",
       "    </tr>\n",
       "    <tr>\n",
       "      <th>4</th>\n",
       "      <td>2.0</td>\n",
       "      <td>-1.158233</td>\n",
       "      <td>0.877737</td>\n",
       "      <td>1.548718</td>\n",
       "      <td>0.403034</td>\n",
       "      <td>-0.407193</td>\n",
       "      <td>0.095921</td>\n",
       "      <td>0.592941</td>\n",
       "      <td>-0.270533</td>\n",
       "      <td>0.817739</td>\n",
       "      <td>...</td>\n",
       "      <td>-0.009431</td>\n",
       "      <td>0.798278</td>\n",
       "      <td>-0.137458</td>\n",
       "      <td>0.141267</td>\n",
       "      <td>-0.206010</td>\n",
       "      <td>0.502292</td>\n",
       "      <td>0.219422</td>\n",
       "      <td>0.215153</td>\n",
       "      <td>69.99</td>\n",
       "      <td>0</td>\n",
       "    </tr>\n",
       "  </tbody>\n",
       "</table>\n",
       "<p>5 rows × 31 columns</p>\n",
       "</div>"
      ],
      "text/plain": [
       "   Time        V1        V2        V3        V4        V5        V6        V7  \\\n",
       "0   0.0 -1.359807 -0.072781  2.536347  1.378155 -0.338321  0.462388  0.239599   \n",
       "1   0.0  1.191857  0.266151  0.166480  0.448154  0.060018 -0.082361 -0.078803   \n",
       "2   1.0 -1.358354 -1.340163  1.773209  0.379780 -0.503198  1.800499  0.791461   \n",
       "3   1.0 -0.966272 -0.185226  1.792993 -0.863291 -0.010309  1.247203  0.237609   \n",
       "4   2.0 -1.158233  0.877737  1.548718  0.403034 -0.407193  0.095921  0.592941   \n",
       "\n",
       "         V8        V9  ...       V21       V22       V23       V24       V25  \\\n",
       "0  0.098698  0.363787  ... -0.018307  0.277838 -0.110474  0.066928  0.128539   \n",
       "1  0.085102 -0.255425  ... -0.225775 -0.638672  0.101288 -0.339846  0.167170   \n",
       "2  0.247676 -1.514654  ...  0.247998  0.771679  0.909412 -0.689281 -0.327642   \n",
       "3  0.377436 -1.387024  ... -0.108300  0.005274 -0.190321 -1.175575  0.647376   \n",
       "4 -0.270533  0.817739  ... -0.009431  0.798278 -0.137458  0.141267 -0.206010   \n",
       "\n",
       "        V26       V27       V28  Amount  Class  \n",
       "0 -0.189115  0.133558 -0.021053  149.62      0  \n",
       "1  0.125895 -0.008983  0.014724    2.69      0  \n",
       "2 -0.139097 -0.055353 -0.059752  378.66      0  \n",
       "3 -0.221929  0.062723  0.061458  123.50      0  \n",
       "4  0.502292  0.219422  0.215153   69.99      0  \n",
       "\n",
       "[5 rows x 31 columns]"
      ]
     },
     "execution_count": 70,
     "metadata": {},
     "output_type": "execute_result"
    }
   ],
   "source": [
    "df = pd.read_csv('../creditcard.csv')\n",
    "df.head()"
   ]
  },
  {
   "cell_type": "code",
   "execution_count": 71,
   "metadata": {},
   "outputs": [
    {
     "data": {
      "text/html": [
       "<div>\n",
       "<style scoped>\n",
       "    .dataframe tbody tr th:only-of-type {\n",
       "        vertical-align: middle;\n",
       "    }\n",
       "\n",
       "    .dataframe tbody tr th {\n",
       "        vertical-align: top;\n",
       "    }\n",
       "\n",
       "    .dataframe thead th {\n",
       "        text-align: right;\n",
       "    }\n",
       "</style>\n",
       "<table border=\"1\" class=\"dataframe\">\n",
       "  <thead>\n",
       "    <tr style=\"text-align: right;\">\n",
       "      <th></th>\n",
       "      <th>scaled_amount</th>\n",
       "      <th>scaled_time</th>\n",
       "      <th>V1</th>\n",
       "      <th>V2</th>\n",
       "      <th>V3</th>\n",
       "      <th>V4</th>\n",
       "      <th>V5</th>\n",
       "      <th>V6</th>\n",
       "      <th>V7</th>\n",
       "      <th>V8</th>\n",
       "      <th>...</th>\n",
       "      <th>V20</th>\n",
       "      <th>V21</th>\n",
       "      <th>V22</th>\n",
       "      <th>V23</th>\n",
       "      <th>V24</th>\n",
       "      <th>V25</th>\n",
       "      <th>V26</th>\n",
       "      <th>V27</th>\n",
       "      <th>V28</th>\n",
       "      <th>Class</th>\n",
       "    </tr>\n",
       "  </thead>\n",
       "  <tbody>\n",
       "    <tr>\n",
       "      <th>241450</th>\n",
       "      <td>0.811849</td>\n",
       "      <td>0.779368</td>\n",
       "      <td>-0.416103</td>\n",
       "      <td>1.442432</td>\n",
       "      <td>1.332867</td>\n",
       "      <td>3.971101</td>\n",
       "      <td>0.335523</td>\n",
       "      <td>2.194741</td>\n",
       "      <td>0.176920</td>\n",
       "      <td>0.485743</td>\n",
       "      <td>...</td>\n",
       "      <td>0.522834</td>\n",
       "      <td>0.248967</td>\n",
       "      <td>1.003180</td>\n",
       "      <td>-0.247951</td>\n",
       "      <td>-0.132305</td>\n",
       "      <td>-0.283054</td>\n",
       "      <td>0.560952</td>\n",
       "      <td>0.595195</td>\n",
       "      <td>0.275871</td>\n",
       "      <td>0</td>\n",
       "    </tr>\n",
       "    <tr>\n",
       "      <th>41569</th>\n",
       "      <td>-0.293440</td>\n",
       "      <td>-0.516336</td>\n",
       "      <td>-2.377533</td>\n",
       "      <td>0.520539</td>\n",
       "      <td>-8.094139</td>\n",
       "      <td>8.005351</td>\n",
       "      <td>2.640750</td>\n",
       "      <td>-3.381586</td>\n",
       "      <td>-1.934372</td>\n",
       "      <td>0.562322</td>\n",
       "      <td>...</td>\n",
       "      <td>-0.634747</td>\n",
       "      <td>0.148284</td>\n",
       "      <td>0.721100</td>\n",
       "      <td>2.661291</td>\n",
       "      <td>-0.508620</td>\n",
       "      <td>-0.401657</td>\n",
       "      <td>0.587611</td>\n",
       "      <td>0.500326</td>\n",
       "      <td>0.551760</td>\n",
       "      <td>1</td>\n",
       "    </tr>\n",
       "    <tr>\n",
       "      <th>133234</th>\n",
       "      <td>-0.279746</td>\n",
       "      <td>-0.051575</td>\n",
       "      <td>1.315162</td>\n",
       "      <td>0.343059</td>\n",
       "      <td>-0.042491</td>\n",
       "      <td>0.494859</td>\n",
       "      <td>0.051613</td>\n",
       "      <td>-0.588829</td>\n",
       "      <td>0.080015</td>\n",
       "      <td>-0.159254</td>\n",
       "      <td>...</td>\n",
       "      <td>-0.042846</td>\n",
       "      <td>-0.340839</td>\n",
       "      <td>-0.971461</td>\n",
       "      <td>0.023465</td>\n",
       "      <td>-0.491273</td>\n",
       "      <td>0.333517</td>\n",
       "      <td>0.145919</td>\n",
       "      <td>-0.023158</td>\n",
       "      <td>0.022688</td>\n",
       "      <td>0</td>\n",
       "    </tr>\n",
       "    <tr>\n",
       "      <th>119714</th>\n",
       "      <td>0.111088</td>\n",
       "      <td>-0.107332</td>\n",
       "      <td>-0.734303</td>\n",
       "      <td>0.435519</td>\n",
       "      <td>-0.530866</td>\n",
       "      <td>-0.471120</td>\n",
       "      <td>0.643214</td>\n",
       "      <td>0.713832</td>\n",
       "      <td>-1.234572</td>\n",
       "      <td>-2.551412</td>\n",
       "      <td>...</td>\n",
       "      <td>0.864536</td>\n",
       "      <td>-1.004877</td>\n",
       "      <td>1.150354</td>\n",
       "      <td>-0.152555</td>\n",
       "      <td>-1.386745</td>\n",
       "      <td>0.004716</td>\n",
       "      <td>0.219146</td>\n",
       "      <td>-0.058257</td>\n",
       "      <td>0.158048</td>\n",
       "      <td>1</td>\n",
       "    </tr>\n",
       "    <tr>\n",
       "      <th>70589</th>\n",
       "      <td>3.351778</td>\n",
       "      <td>-0.361318</td>\n",
       "      <td>-2.042608</td>\n",
       "      <td>1.573578</td>\n",
       "      <td>-2.372652</td>\n",
       "      <td>-0.572676</td>\n",
       "      <td>-2.097353</td>\n",
       "      <td>-0.174142</td>\n",
       "      <td>-3.039520</td>\n",
       "      <td>-1.634233</td>\n",
       "      <td>...</td>\n",
       "      <td>0.825566</td>\n",
       "      <td>-0.723326</td>\n",
       "      <td>0.501222</td>\n",
       "      <td>-0.696892</td>\n",
       "      <td>-0.600514</td>\n",
       "      <td>0.127547</td>\n",
       "      <td>-0.786072</td>\n",
       "      <td>0.606097</td>\n",
       "      <td>0.171697</td>\n",
       "      <td>1</td>\n",
       "    </tr>\n",
       "  </tbody>\n",
       "</table>\n",
       "<p>5 rows × 31 columns</p>\n",
       "</div>"
      ],
      "text/plain": [
       "        scaled_amount  scaled_time        V1        V2        V3        V4  \\\n",
       "241450       0.811849     0.779368 -0.416103  1.442432  1.332867  3.971101   \n",
       "41569       -0.293440    -0.516336 -2.377533  0.520539 -8.094139  8.005351   \n",
       "133234      -0.279746    -0.051575  1.315162  0.343059 -0.042491  0.494859   \n",
       "119714       0.111088    -0.107332 -0.734303  0.435519 -0.530866 -0.471120   \n",
       "70589        3.351778    -0.361318 -2.042608  1.573578 -2.372652 -0.572676   \n",
       "\n",
       "              V5        V6        V7        V8  ...       V20       V21  \\\n",
       "241450  0.335523  2.194741  0.176920  0.485743  ...  0.522834  0.248967   \n",
       "41569   2.640750 -3.381586 -1.934372  0.562322  ... -0.634747  0.148284   \n",
       "133234  0.051613 -0.588829  0.080015 -0.159254  ... -0.042846 -0.340839   \n",
       "119714  0.643214  0.713832 -1.234572 -2.551412  ...  0.864536 -1.004877   \n",
       "70589  -2.097353 -0.174142 -3.039520 -1.634233  ...  0.825566 -0.723326   \n",
       "\n",
       "             V22       V23       V24       V25       V26       V27       V28  \\\n",
       "241450  1.003180 -0.247951 -0.132305 -0.283054  0.560952  0.595195  0.275871   \n",
       "41569   0.721100  2.661291 -0.508620 -0.401657  0.587611  0.500326  0.551760   \n",
       "133234 -0.971461  0.023465 -0.491273  0.333517  0.145919 -0.023158  0.022688   \n",
       "119714  1.150354 -0.152555 -1.386745  0.004716  0.219146 -0.058257  0.158048   \n",
       "70589   0.501222 -0.696892 -0.600514  0.127547 -0.786072  0.606097  0.171697   \n",
       "\n",
       "        Class  \n",
       "241450      0  \n",
       "41569       1  \n",
       "133234      0  \n",
       "119714      1  \n",
       "70589       1  \n",
       "\n",
       "[5 rows x 31 columns]"
      ]
     },
     "execution_count": 71,
     "metadata": {},
     "output_type": "execute_result"
    }
   ],
   "source": [
    "std_scaler = StandardScaler()\n",
    "rob_scaler = RobustScaler()\n",
    "\n",
    "df['scaled_amount'] = rob_scaler.fit_transform(df['Amount'].values.reshape(-1,1))\n",
    "df['scaled_time'] = rob_scaler.fit_transform(df['Time'].values.reshape(-1,1))\n",
    "\n",
    "df.drop(['Time','Amount'], axis=1, inplace=True)\n",
    "\n",
    "scaled_amount = df['scaled_amount']\n",
    "scaled_time = df['scaled_time']\n",
    "\n",
    "df.drop(['scaled_amount', 'scaled_time'], axis=1, inplace=True)\n",
    "df.insert(0, 'scaled_amount', scaled_amount)\n",
    "df.insert(1, 'scaled_time', scaled_time)\n",
    "\n",
    "df = df.sample(frac=1)  #shuffle\n",
    "\n",
    "fraud_df = df.loc[df['Class'] == 1]\n",
    "non_fraud_df = df.loc[df['Class'] == 0][:492]\n",
    "normal_distributed_df = pd.concat([fraud_df, non_fraud_df])\n",
    "new_df = normal_distributed_df.sample(frac=1, random_state=42)\n",
    "\n",
    "new_df.head()"
   ]
  },
  {
   "cell_type": "code",
   "execution_count": 72,
   "metadata": {},
   "outputs": [
    {
     "data": {
      "text/plain": [
       "((984, 984), (31,), (31, 31))"
      ]
     },
     "execution_count": 72,
     "metadata": {},
     "output_type": "execute_result"
    }
   ],
   "source": [
    "mat_df = np.array(new_df).astype(np.float64)\n",
    "\n",
    "U, s, V = np.linalg.svd(mat_df, full_matrices=True)\n",
    "U.shape, s.shape, V.shape"
   ]
  },
  {
   "cell_type": "code",
   "execution_count": 73,
   "metadata": {},
   "outputs": [
    {
     "data": {
      "text/plain": [
       "array([546.7001261 , 180.62813769, 155.51413632, 116.42654353,\n",
       "       108.38994212,  99.02690103,  56.04811538,  48.7466579 ,\n",
       "        45.60979205,  39.95829418,  38.75012044,  37.14934221,\n",
       "        35.32826461,  33.83258435,  32.21137493,  31.84140497,\n",
       "        30.10439691,  29.38977796,  27.05291268,  25.22819072,\n",
       "        23.43075901,  21.87647886,  20.33940833,  19.90160105,\n",
       "        17.04591565,  15.91012202,  13.84388127,  11.83789248,\n",
       "        11.08914386,   9.50880485,   8.96000894])"
      ]
     },
     "execution_count": 73,
     "metadata": {},
     "output_type": "execute_result"
    }
   ],
   "source": [
    "s"
   ]
  },
  {
   "cell_type": "markdown",
   "metadata": {},
   "source": [
    "## TruncatedSVD"
   ]
  },
  {
   "cell_type": "code",
   "execution_count": 74,
   "metadata": {},
   "outputs": [
    {
     "data": {
      "text/plain": [
       "TruncatedSVD(n_components=6)"
      ]
     },
     "execution_count": 74,
     "metadata": {},
     "output_type": "execute_result"
    }
   ],
   "source": [
    "svd = TruncatedSVD(n_components=6)\n",
    "svd.fit(mat_df)"
   ]
  },
  {
   "cell_type": "code",
   "execution_count": 75,
   "metadata": {},
   "outputs": [
    {
     "data": {
      "text/plain": [
       "array([546.7001261 , 180.62813769, 155.51413632, 116.42654353,\n",
       "       108.38994212,  99.02690103])"
      ]
     },
     "execution_count": 75,
     "metadata": {},
     "output_type": "execute_result"
    }
   ],
   "source": [
    "svd.singular_values_"
   ]
  },
  {
   "cell_type": "code",
   "execution_count": 76,
   "metadata": {},
   "outputs": [
    {
     "data": {
      "text/plain": [
       "array([0.65459611, 0.09708981, 0.07288461, 0.04105741, 0.03458768,\n",
       "       0.03020437])"
      ]
     },
     "execution_count": 76,
     "metadata": {},
     "output_type": "execute_result"
    }
   ],
   "source": [
    "svd.explained_variance_ratio_"
   ]
  },
  {
   "cell_type": "code",
   "execution_count": 77,
   "metadata": {},
   "outputs": [
    {
     "data": {
      "image/png": "[encoded data removed]",
      "text/plain": [
       "<Figure size 1080x720 with 1 Axes>"
      ]
     },
     "metadata": {
      "needs_background": "light"
     },
     "output_type": "display_data"
    }
   ],
   "source": [
    "X_reduced_svd6 = TruncatedSVD(n_components=6, algorithm='randomized', random_state=42).fit_transform(mat_df)\n",
    "y = new_df['Class']\n",
    "\n",
    "blue_patch = mpatches.Patch(color='#0A0AFF', label='No Fraud')\n",
    "red_patch = mpatches.Patch(color='#AF0000', label='Fraud')\n",
    "\n",
    "plt.figure(figsize=(15,10))\n",
    "plt.scatter(X_reduced_svd6[:,0], X_reduced_svd6[:,1], c=(y == 0), cmap='coolwarm', label='No Fraud', linewidths=2)\n",
    "plt.scatter(X_reduced_svd6[:,0], X_reduced_svd6[:,1], c=(y == 1), cmap='coolwarm', label='Fraud', linewidths=2)\n",
    "plt.grid(True)\n",
    "plt.legend(handles=[blue_patch, red_patch])\n",
    "plt.show()"
   ]
  },
  {
   "cell_type": "code",
   "execution_count": 78,
   "metadata": {},
   "outputs": [
    {
     "data": {
      "image/png": "[encoded data removed]",
      "text/plain": [
       "<Figure size 1080x720 with 1 Axes>"
      ]
     },
     "metadata": {
      "needs_background": "light"
     },
     "output_type": "display_data"
    }
   ],
   "source": [
    "X_reduced_svd = TruncatedSVD(n_components=2, algorithm='randomized', random_state=42).fit_transform(mat_df)\n",
    "y = new_df['Class']\n",
    "\n",
    "blue_patch = mpatches.Patch(color='#0A0AFF', label='No Fraud')\n",
    "red_patch = mpatches.Patch(color='#AF0000', label='Fraud')\n",
    "\n",
    "plt.figure(figsize=(15,10))\n",
    "plt.scatter(X_reduced_svd[:,0], X_reduced_svd[:,1], c=(y == 0), cmap='coolwarm', label='No Fraud', linewidths=2)\n",
    "plt.scatter(X_reduced_svd[:,0], X_reduced_svd[:,1], c=(y == 1), cmap='coolwarm', label='Fraud', linewidths=2)\n",
    "plt.grid(True)\n",
    "plt.legend(handles=[blue_patch, red_patch])\n",
    "plt.show()"
   ]
  },
  {
   "cell_type": "code",
   "execution_count": null,
   "metadata": {},
   "outputs": [],
   "source": []
  },
  {
   "cell_type": "code",
   "execution_count": null,
   "metadata": {},
   "outputs": [],
   "source": []
  }
 ],
 "metadata": {
  "kernelspec": {
   "display_name": "Python 3",
   "language": "python",
   "name": "python3"
  },
  "language_info": {
   "codemirror_mode": {
    "name": "ipython",
    "version": 3
   },
   "file_extension": ".py",
   "mimetype": "text/x-python",
   "name": "python",
   "nbconvert_exporter": "python",
   "pygments_lexer": "ipython3",
   "version": "3.7.5"
  }
 },
 "nbformat": 4,
 "nbformat_minor": 4
}
